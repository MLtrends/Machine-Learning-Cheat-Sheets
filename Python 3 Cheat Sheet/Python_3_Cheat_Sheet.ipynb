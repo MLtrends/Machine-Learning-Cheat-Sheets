{
  "nbformat": 4,
  "nbformat_minor": 0,
  "metadata": {
    "colab": {
      "name": "Python 3 Cheat Sheet.ipynb",
      "provenance": [],
      "collapsed_sections": [],
      "authorship_tag": "ABX9TyM2S2/64jdrr5bZff4/8AmH",
      "include_colab_link": true
    },
    "kernelspec": {
      "name": "python3",
      "display_name": "Python 3"
    },
    "language_info": {
      "name": "python"
    }
  },
  "cells": [
    {
      "cell_type": "markdown",
      "metadata": {
        "id": "view-in-github",
        "colab_type": "text"
      },
      "source": [
        "<a href=\"https://colab.research.google.com/github/MLtrends/Machine-Learning-Cheat-Sheets/blob/main/Python%203%20Cheat%20Sheet/Python_3_Cheat_Sheet.ipynb\" target=\"_parent\"><img src=\"https://colab.research.google.com/assets/colab-badge.svg\" alt=\"Open In Colab\"/></a>"
      ]
    },
    {
      "cell_type": "markdown",
      "source": [
        "## Comments\n",
        "Comments ares used to explain code, to make the code more readable, and to prevent execution when testing code.<br>\n"
      ],
      "metadata": {
        "id": "6owH-ZKJfd7E"
      }
    },
    {
      "cell_type": "code",
      "source": [
        "# This is a one line comment\n",
        "\n",
        "'''\n",
        "This is a multi-line \n",
        "comment\n",
        "'''\n",
        "\n",
        "\"\"\"\n",
        "This is a multi-line \n",
        "comment too\n",
        "\"\"\""
      ],
      "metadata": {
        "id": "xiYTH7B-fcQN",
        "colab": {
          "base_uri": "https://localhost:8080/",
          "height": 36
        },
        "outputId": "55a7a6ee-dd24-42c4-ebbd-c7b35ce797cb"
      },
      "execution_count": null,
      "outputs": [
        {
          "output_type": "execute_result",
          "data": {
            "text/plain": [
              "'\\nThis is a multi-line \\ncomment\\n'"
            ],
            "application/vnd.google.colaboratory.intrinsic+json": {
              "type": "string"
            }
          },
          "metadata": {},
          "execution_count": 6
        }
      ]
    },
    {
      "cell_type": "markdown",
      "source": [
        "## Strings\n",
        "Strings in Python are surrounded by single quotation marks, or double quotation marks."
      ],
      "metadata": {
        "id": "re6RV9uKf4R3"
      }
    },
    {
      "cell_type": "code",
      "source": [
        "str_1 = \"Hello, World!\" # Double quotes\n",
        "str_2 = 'This is a string too' # Single quotes\n",
        "str_3 = '''This is\n",
        "    a long string''' # Multi-line string\n",
        "str_4 = \"HI\\nThere\" # \\n  = Linefeed, start a new line\n",
        "str_5 = \"HI,\\tThere\" # \\t  = Add tab/indent\n",
        "str_6 = \"He\\'s fine\" # \\'  = Print a single quote ( ' ) in text\n",
        "str_7 = \"It is called \\\"IT\\\"\" # \\\"  = Print a single quote ( \" ) in text\n",
        "str_8 = \"c:\\\\path\\\\files\" # \\\\ Print a backslash ( \\ ) in text\n",
        "str_9 = r\"\\n means linefeed\" # Treat ( \\n ) as a literal character\n",
        "str_10 = str(3) # Convert a number to string type\n",
        "length = len(str_1) # Check the length of a string"
      ],
      "metadata": {
        "id": "yxedEmkTf6no"
      },
      "execution_count": null,
      "outputs": []
    },
    {
      "cell_type": "markdown",
      "source": [
        "## String Concatenation\n",
        "To concatenate, or combine, two strings you can use the + operator, or the join function."
      ],
      "metadata": {
        "id": "O7jnqGDCzonc"
      }
    },
    {
      "cell_type": "code",
      "source": [
        "str_1 = \"Hello\"\n",
        "str_2 = \"World\"\n",
        "\n",
        "sentence = str_1 + \", \" + str_2 + \"!\"\n",
        "# Hello, World!\n",
        "\n",
        "words = [\"This\", \"is\", \"an\", \"amazing\", \"thing\"]\n",
        "print(' '.join(words))\n",
        "# This is an amazing thing\n",
        "print(', '.join(words))\n",
        "# This, is, an, amazing, thing"
      ],
      "metadata": {
        "id": "8PpnXylB04s-"
      },
      "execution_count": null,
      "outputs": []
    },
    {
      "cell_type": "markdown",
      "source": [
        "## Input/Output\n",
        "The input() and print() functions are used for standard input and output operations respectively.\n",
        "\n"
      ],
      "metadata": {
        "id": "C8wECI1CtQBV"
      }
    },
    {
      "cell_type": "code",
      "source": [
        "str_1 = \"Python 3\"\n",
        "str_2 = \"Cheat sheet\"\n",
        "\n",
        "print(\"%s %s\" %(str_1,str_2)) # Python 3 Cheat sheet\n",
        "print(\"{} {}\".format(str_1, str_2)) # Python 3 Cheat sheet\n",
        "print(\"{0} {1}\".format(str_1, str_2)) # Python 3 Cheat sheet\n",
        "print(\"{1} {0}\".format(str_1, str_2)) # Cheat sheet Python 3\n",
        "print(f\"{str_1} {str_2}\") # Python 3 Cheat sheet\n",
        "\n",
        "your_age = input(\"How old are you?\") # The input is string type\n",
        "print(f\"{60-int(your_age)} years to retire\") # Convert string to integer"
      ],
      "metadata": {
        "id": "g3Hv9On7tYkx"
      },
      "execution_count": null,
      "outputs": []
    },
    {
      "cell_type": "markdown",
      "source": [
        "## Defining and Calling a Function\n",
        "A function is a block of code which only runs when it is called. You can pass data (arguments) into a function, and the function can also return data as a result."
      ],
      "metadata": {
        "id": "2mWtnzE8BGy-"
      }
    },
    {
      "cell_type": "code",
      "source": [
        "def display_something(): # Define a function\n",
        "    print(\"This is a demo!\")\n",
        "\n",
        "display_something() # Call the function"
      ],
      "metadata": {
        "id": "iMODg6GmCkP8"
      },
      "execution_count": null,
      "outputs": []
    },
    {
      "cell_type": "markdown",
      "source": [
        "## Function with Arguments\n",
        "\n"
      ],
      "metadata": {
        "id": "EQAJx1JWGuWO"
      }
    },
    {
      "cell_type": "code",
      "source": [
        "def my_sum1(x, y):\n",
        "    res = x + y\n",
        "    return res\n",
        "\n",
        "my_sum1(3, 4) # Returns 7\n",
        "my_sum1(y = 4, x = 3) # Return 7\n",
        "\n",
        "# Add optional argument for the function\n",
        "def my_sum2(x, opt = 0):\n",
        "    res = 2*x + opt\n",
        "    return res\n",
        "\n",
        "my_sum2(3), my_sum2(3, opt = 4)"
      ],
      "metadata": {
        "id": "0Z6pmoaaDV4K"
      },
      "execution_count": null,
      "outputs": []
    },
    {
      "cell_type": "markdown",
      "source": [
        "## Function with Variable Number of Arguments"
      ],
      "metadata": {
        "id": "RCqNeo1cDQP_"
      }
    },
    {
      "cell_type": "code",
      "source": [
        "# *args for non-key worded, variable number of arguments\n",
        "def my_args_fun(*args):\n",
        "    print(args)\n",
        "   \n",
        "my_args_fun(\"non\", \"key\", \"worded\", \"variable no. of arguments\")\n",
        "\n",
        "# *kwargs for variable number of keyword arguments\n",
        "def my_kwargs_fun(**kwargs):\n",
        "    print(kwargs)\n",
        " \n",
        "my_kwargs_fun(first =32, mid =1, last=22)   \n",
        "\n",
        "# Using *args and **kwargs for a function\n",
        "def my_fun(*args,**kwargs):\n",
        "    print(\"args: \", args)\n",
        "    print(\"kwargs: \", kwargs)\n",
        "\n",
        "my_fun(1, 2, first=13, second=32)"
      ],
      "metadata": {
        "id": "2CBXeZ0nG3CH"
      },
      "execution_count": null,
      "outputs": []
    },
    {
      "cell_type": "markdown",
      "source": [
        "## Lambda Function\n",
        "A lambda function is a small anonymous function, and it can take any number of arguments, but only one expression is allowed."
      ],
      "metadata": {
        "id": "s0DQSM5PFJnG"
      }
    },
    {
      "cell_type": "code",
      "source": [
        "import math\n",
        "\n",
        "def my_sqrt(x): # define a regular function\n",
        "    return math.sqrt(x)\n",
        "print(my_sqrt(4))\n",
        "\n",
        "g = lambda x: math.sqrt(x) # define a online function\n",
        "print(g(4))"
      ],
      "metadata": {
        "id": "RjwBTq-aFYs7"
      },
      "execution_count": null,
      "outputs": []
    },
    {
      "cell_type": "markdown",
      "source": [
        "## Global Variable\n",
        "Global variables can be used by everywhere, both inside of functions and outside. "
      ],
      "metadata": {
        "id": "tL0zyOLLqZaj"
      }
    },
    {
      "cell_type": "code",
      "source": [
        "counter = 0\n",
        "def my_count():\n",
        "    global counter\n",
        "    counter = counter + 1\n",
        "    print(counter)\n",
        "my_count()"
      ],
      "metadata": {
        "id": "6HjWdlNpqcbJ"
      },
      "execution_count": null,
      "outputs": []
    },
    {
      "cell_type": "markdown",
      "source": [
        "## Lists\n",
        "A list is a collection of ordered data. Lists are mutable."
      ],
      "metadata": {
        "id": "j99tMn7rr8jW"
      }
    },
    {
      "cell_type": "code",
      "source": [
        "str_list = [\"hello\", \"world\"]\n",
        "mixed_list = [2, 3.1, \"hi\"]\n",
        "list_of_list = [str_list, mixed_list]\n",
        "\n",
        "print(str_list[0])\n",
        "print(len(str_list))\n",
        "print(len(mixed_list))\n",
        "print(len(list_of_list))"
      ],
      "metadata": {
        "id": "tWr7YUoxsA4G"
      },
      "execution_count": null,
      "outputs": []
    },
    {
      "cell_type": "markdown",
      "source": [
        "## Python List Methods - append(), extend(), pop(), remove(), insert()"
      ],
      "metadata": {
        "id": "3eWAwYA6jC4e"
      }
    },
    {
      "cell_type": "code",
      "source": [
        "int_list = [3, 2, 5]\n",
        "int_list.append(7) # Append a number to the list\n",
        "print(int_list) # [3, 2, 5, 7]\n",
        "\n",
        "int_list.extend([1, 6]) # Extend numbers to the list\n",
        "print(int_list) # [3, 2, 5, 7, 1, 6]\n",
        "\n",
        "print(int_list + [1, 6]) # Extend numbers to the list\n",
        "# [3, 2, 5, 7, 1, 6, 1, 6]\n",
        "\n",
        "int_list.pop() # Remove the last elememt from the list\n",
        "print(int_list) # [3, 2, 5, 7, 1]\n",
        "\n",
        "int_list.pop(3) # Remove the last elememt at index 3\n",
        "print(int_list) # [3, 2, 5, 1]\n",
        "\n",
        "int_list.remove(3) # Remove the first matching element\n",
        "print(int_list) # [2, 5, 1]\n",
        "\n",
        "int_list.insert(2, 8) # Insert 5 into index 2\n",
        "print(int_list) # [2, 5, 8, 1]\n"
      ],
      "metadata": {
        "id": "wFwdw69tjmm-"
      },
      "execution_count": null,
      "outputs": []
    },
    {
      "cell_type": "markdown",
      "source": [
        "## List Unpacking\n",
        "List unpacking is an operation that elements of tuples and lists can be assigned to multiple variables."
      ],
      "metadata": {
        "id": "mLW5N68NyosS"
      }
    },
    {
      "cell_type": "code",
      "source": [
        "nums = [18, 88]\n",
        "age, math = nums\n",
        "print(\"The math is %d\" %math) # The math is 88\n",
        "age, _ = nums # Only interested in age\n",
        "print(age) # 18\n",
        "\n",
        "r = range(5) # Create a range from 0 to 4\n",
        "print(*r) # Prints [0 1 2 3 4], unpack the range\n",
        "\n",
        "print(r[0]) # Prints 0 , number at 0 index\n",
        "print(r[-1]) # Prints 4, number at the last index\n",
        "print(r[-2]) # Prints 3, number at the second last index"
      ],
      "metadata": {
        "id": "gY8IFpCS2YfF"
      },
      "execution_count": null,
      "outputs": []
    },
    {
      "cell_type": "markdown",
      "source": [
        "## Slicing\n",
        "Slicing is a computationally fast way to methodically access parts of data using index."
      ],
      "metadata": {
        "id": "DkQe97HX_pUQ"
      }
    },
    {
      "cell_type": "code",
      "source": [
        "num_list = [2, 3, 4, 6, 8]\n",
        "print(num_list[-2:]) # Prints [6, 8], second last to last elements\n",
        "print(num_list[:2]) # Prints [2, 3], first 2 elements\n",
        "print(num_list[1:4]) # Prints [3, 4, 6], elements from index 1 to 4 \n",
        "print(num_list[1:-2]) # Prints [3, 4], elements from index 1 to second last"
      ],
      "metadata": {
        "id": "4UfdW3cy_wxv"
      },
      "execution_count": null,
      "outputs": []
    },
    {
      "cell_type": "markdown",
      "source": [
        "## Membership\n",
        "The membership operators test for membership in a sequence, such as strings, lists, or tuples."
      ],
      "metadata": {
        "id": "Sy28YE_rKIX6"
      }
    },
    {
      "cell_type": "code",
      "source": [
        "num_list = [2, 3, 4, 6, 8]\n",
        "test_1 = 3 in num_list\n",
        "print(test_1) # True\n",
        "test_2 = 4 not in num_list\n",
        "print(test_2) # False"
      ],
      "metadata": {
        "id": "62_fjcycKLfI"
      },
      "execution_count": null,
      "outputs": []
    },
    {
      "cell_type": "markdown",
      "source": [
        "## Tuples\n",
        "A tuple is an ordered collection of data. Tuples are immutable."
      ],
      "metadata": {
        "id": "qP7dqDJqr5K7"
      }
    },
    {
      "cell_type": "code",
      "source": [
        "tp_1 = (1, 2, 3)\n",
        "tp_2 = 4, 5, 6\n",
        "print(tp_1) # Prints (1, 2, 3)\n",
        "print(tp_2) # Prints (4, 5, 6)\n",
        "tp_1[1] = 2 # Error"
      ],
      "metadata": {
        "id": "QB0P9Xbqr76L"
      },
      "execution_count": null,
      "outputs": []
    },
    {
      "cell_type": "markdown",
      "source": [
        "## Sets\n",
        "A set is an unordered collection. Sets are mutable and have no duplicate elements."
      ],
      "metadata": {
        "id": "K8KmAhVot1LS"
      }
    },
    {
      "cell_type": "code",
      "source": [
        "items = set()\n",
        "items.add(\"rice\")\n",
        "items.add(\"burger\")\n",
        "items.add(5)\n",
        "items.add(\"mango\")\n",
        "items.remove(\"mango\")\n",
        "print(items)"
      ],
      "metadata": {
        "id": "BUpNmPkRt3Fq"
      },
      "execution_count": null,
      "outputs": []
    },
    {
      "cell_type": "markdown",
      "source": [
        "## Dictionaries\n",
        "A dictionary is an unordered collection of data that stores data in key-value pairs. Dictionaries are mutable and keys do not allow duplicates."
      ],
      "metadata": {
        "id": "4svWL2NTsgnD"
      }
    },
    {
      "cell_type": "code",
      "source": [
        "scores = {}\n",
        "scores = {\"Madeline\": 98,\n",
        "          \"Melody\": 99,\n",
        "          \"Jane\": 88}\n",
        "\n",
        "print(scores[\"Madeline\"]) # Prints 98\n",
        "print(scores[\"Leo\"]) # Error\n",
        "\n",
        "scores[\"Luke\"] = 87\n",
        "print(scores[\"Luke\"]) # Prints 87\n",
        "\n",
        "have_Melody = \"Melody\" in scores # Prints True\n",
        "print(have_Melody)\n",
        "\n",
        "have_Joe = \"Joe\" in scores # Prints False\n",
        "print(have_Joe)"
      ],
      "metadata": {
        "id": "LAIs42sXslrj"
      },
      "execution_count": null,
      "outputs": []
    },
    {
      "cell_type": "markdown",
      "source": [
        "## Decision Making\n",
        "Decision making statement is used to control the flow of execution of program depending upon a condition. If the condition is true then the block will execute and if the condition is false then block will not execute."
      ],
      "metadata": {
        "id": "s7KOW-5zPBdB"
      }
    },
    {
      "cell_type": "code",
      "source": [
        "expensive = True\n",
        "good  = False\n",
        "\n",
        "if expensive:\n",
        "    print(\"It is expensive\")\n",
        "\n",
        "if not expensive:\n",
        "    print(\"It is cheap\")\n",
        "\n",
        "if expensive and good:\n",
        "    print(\"It is not a deal\")\n",
        "\n",
        "if expensive or good:\n",
        "    print(\"It might not be a deal\")  "
      ],
      "metadata": {
        "id": "4UJoNcHNPFWR"
      },
      "execution_count": null,
      "outputs": []
    },
    {
      "cell_type": "markdown",
      "source": [
        "## Comparison\n",
        "Comparison operators compare the values on either sides of them and decide the relation among them."
      ],
      "metadata": {
        "id": "-YzxXVFGaCAq"
      }
    },
    {
      "cell_type": "code",
      "source": [
        "room_temp = 70\n",
        "temp_now = 50\n",
        "\n",
        "if temp_now < room_temp:\n",
        "    print(\"cold\")\n",
        "elif temp_now > room_temp:\n",
        "    print(\"hot\")\n",
        "else:\n",
        "    print(\"confortable\")\n",
        "\n",
        "if temp_now == 70:\n",
        "    print(\"room temperature\")\n",
        "\n",
        "if temp_now != 70:\n",
        "    print(\"not room temperature\")"
      ],
      "metadata": {
        "id": "KivbPKkBaE8x"
      },
      "execution_count": null,
      "outputs": []
    },
    {
      "cell_type": "markdown",
      "source": [
        "## Ternary Operator\n",
        "Ternary operators or conditional expressions are used to evaluated something based on a condition being true or not."
      ],
      "metadata": {
        "id": "ez4E35MRc0Oq"
      }
    },
    {
      "cell_type": "code",
      "source": [
        "number = 10\n",
        "parity = \"even\" if number%2==0 else \"odd\"\n",
        "print(parity)"
      ],
      "metadata": {
        "id": "8j06Z1sEc4BD"
      },
      "execution_count": null,
      "outputs": []
    },
    {
      "cell_type": "markdown",
      "source": [
        "## For Loop\n",
        "A for loop is used for iterating over a sequence (list, tuple, dictionary, set, or string) for a predefined times."
      ],
      "metadata": {
        "id": "ZAkGGh_idpi7"
      }
    },
    {
      "cell_type": "code",
      "source": [
        "for i in range(1, 10, 2): # step is 2\n",
        "    print(i) # 1, 3, 5, 7, 9\n",
        "\n",
        "for i in range(5): # default step is 1\n",
        "    print(i) # 0, 1, 2, 3, 4\n",
        "\n",
        "num_list = [1, 3, 4]\n",
        "for i in num_list: # loop through each element \n",
        "    print(i) # 1, 3, 4"
      ],
      "metadata": {
        "id": "yYiOACFaduO7"
      },
      "execution_count": null,
      "outputs": []
    },
    {
      "cell_type": "markdown",
      "source": [
        "## Break\n",
        "Break is a loop control statement, and it is used to control the sequence of the loop."
      ],
      "metadata": {
        "id": "FDHBvJHwezea"
      }
    },
    {
      "cell_type": "code",
      "source": [
        "for k in range(5):\n",
        "    print(k) # print up to 3\n",
        "    if (k == 3):\n",
        "        break"
      ],
      "metadata": {
        "id": "EdNY8t0Ce1Wq"
      },
      "execution_count": null,
      "outputs": []
    },
    {
      "cell_type": "markdown",
      "source": [
        "## Continue\n",
        "The continue statement returns the control to the beginning of the while loop."
      ],
      "metadata": {
        "id": "n7GHRK-6fbbi"
      }
    },
    {
      "cell_type": "code",
      "source": [
        "for num in range(7):\n",
        "    if (num == 4):\n",
        "        continue\n",
        "    print(num) # print 0 through 7, except 4"
      ],
      "metadata": {
        "id": "_UKgaYUxfeLi"
      },
      "execution_count": null,
      "outputs": []
    },
    {
      "cell_type": "markdown",
      "source": [
        "## Enumerating\n",
        "Enumerate() adds a counter to an iterable and returns it in a form of enumerating object. This enumerated object can then be used directly for loops or converted into a list of tuples using the list() method."
      ],
      "metadata": {
        "id": "1q5qE76jnSDd"
      }
    },
    {
      "cell_type": "code",
      "source": [
        "class_list = [\"math\", \"science\", \"engineering\"]\n",
        "# Simplify looping with counters\n",
        "for count, my_class in enumerate(class_list): \n",
        "    print(count, my_class) # prints 0 math 1 science 2 engineering\n",
        "\n",
        "for count, my_class in enumerate(class_list, start=1): \n",
        "    print(count, my_class) # prints 1 math 2 science 3 engineering\n",
        "\n",
        "str1 = \"python\"\n",
        "# changing start index to 2 from 0\n",
        "print (list(enumerate(str1, 2)))"
      ],
      "metadata": {
        "id": "cw0uUQu7ncDd"
      },
      "execution_count": null,
      "outputs": []
    },
    {
      "cell_type": "markdown",
      "source": [
        "## List Comprehension\n",
        "List comprehension offers a shorter syntax when you want to create a new list based on the values of an existing list."
      ],
      "metadata": {
        "id": "YWqNre6wppEE"
      }
    },
    {
      "cell_type": "code",
      "source": [
        "numbers = [1, 2, 3]\n",
        "squares = [n**2 for n in numbers]\n",
        "print(squares) # prints [1, 4, 9]\n",
        "\n",
        "even_squares = [n**2 for n in numbers if n%2 == 0]\n",
        "print(even_squares) # prints 4\n",
        "\n",
        "class_list = [\"math\", \"science\", \"engineering\"]\n",
        "newlist = [x for x in class_list if \"e\" in x]\n",
        "print(newlist) # prints ['science', 'engineering']"
      ],
      "metadata": {
        "id": "JsveaGEIprrz"
      },
      "execution_count": null,
      "outputs": []
    },
    {
      "cell_type": "markdown",
      "source": [
        "## While loop\n",
        "A while loop executes a set of statements as long as the condition is true."
      ],
      "metadata": {
        "id": "LCst9te0mRnN"
      }
    },
    {
      "cell_type": "code",
      "source": [
        "counter = 0\n",
        "target = 9\n",
        "\n",
        "while counter <= target: # Repeat until the condition is false\n",
        "    print(counter)\n",
        "    counter += 1 # Increase counter by 1\n"
      ],
      "metadata": {
        "id": "zPzIFXDpmROH"
      },
      "execution_count": null,
      "outputs": []
    },
    {
      "cell_type": "markdown",
      "source": [
        "## Map, Filter, Reduce\n",
        "* The map() function:  returns a map object(which is an iterator) of the results after applying the given function to each item of a given iterable (list, tuple etc.)\n",
        "* The filter() function: filters the given sequence with the help of a function that tests each element in the sequence to be true or not.\n",
        "* The reduce() function: applies a particular function passed in its argument to all of the list elements mentioned in the sequence passed along. \n"
      ],
      "metadata": {
        "id": "KervxgtqrvHx"
      }
    },
    {
      "cell_type": "code",
      "source": [
        "my_list = list([1,2,3,4,5,6,7])\n",
        "\n",
        "squares = map(lambda x: x**2, my_list)\n",
        "print([*squares])\n",
        "  \n",
        "# Use anonymous function to filter and compare\n",
        "even_list = filter(lambda x: x%2 == 0, my_list)\n",
        "print([*even_list]) # Printing the filter \n",
        "\n",
        "from functools import reduce\n",
        "\n",
        "total = reduce(lambda s, x: s+x, my_list)\n",
        "print(total)\n",
        "\n",
        "max = reduce(lambda a,b: a if a>b else b, my_list)\n",
        "print(max)"
      ],
      "metadata": {
        "id": "6s42y5KbSDsb"
      },
      "execution_count": null,
      "outputs": []
    },
    {
      "cell_type": "markdown",
      "source": [
        "## Exceptions Handling\n",
        "An Exception (run time error) is an event that occurs during the execution of the program. When an error occurs, Python generates an exception during the execution and that can be handled to avoid a program to interrupt."
      ],
      "metadata": {
        "id": "vy3ZA-TUjLiF"
      }
    },
    {
      "cell_type": "code",
      "source": [
        "try:\n",
        "    f = open(\"test.txt\", 'r')\n",
        "except FileNotFoundError as fe:\n",
        "    print(fe)\n",
        "    print ('Creating file...')\n",
        "    f = open(\"test.txt\", 'w')\n",
        "    f.write('2022')\n",
        "else:\n",
        "    data=f.readline(1)\n",
        "    print(data)\n",
        "finally:\n",
        "    print ('File closed')\n",
        "    f.close()"
      ],
      "metadata": {
        "id": "aPhjXstLjPaM"
      },
      "execution_count": null,
      "outputs": []
    },
    {
      "cell_type": "markdown",
      "source": [
        "## Raising Exceptions\n",
        "Use the **raise** keyword raise an exception if a condition occurs"
      ],
      "metadata": {
        "id": "6dKlrzh9kPR6"
      }
    },
    {
      "cell_type": "code",
      "source": [
        "x = 3\n",
        "\n",
        "if not type(x) is str:\n",
        "    raise TypeError(\"String only\")\n",
        "\n",
        "if len(x) < 3:\n",
        "  raise Exception(\"Too short\")"
      ],
      "metadata": {
        "id": "R9RJnjzxkWTD"
      },
      "execution_count": null,
      "outputs": []
    }
  ]
}